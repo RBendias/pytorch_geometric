{
 "cells": [
  {
   "cell_type": "markdown",
   "id": "2d72d6a2",
   "metadata": {},
   "source": [
    "# GNNExplainer Experiment with BA-Shapes"
   ]
  },
  {
   "cell_type": "markdown",
   "id": "e48dd0d2",
   "metadata": {},
   "source": [
    "**In this notebook:**\n",
    "* Load BA-Shapes dataset according to https://github.com/flyingdoog/PGExplainer/blob/ec57ea2db3b196da7eb93179acffc64ec6958828/BA-shapes.ipynb\n",
    "* Train GCN Model as described in https://arxiv.org/pdf/1903.03894.pdf\n",
    "* Run GNNExplainer \n",
    "* Calculate accuracy of GNNExplainer"
   ]
  },
  {
   "cell_type": "markdown",
   "id": "b92f5310",
   "metadata": {},
   "source": [
    "## Imports"
   ]
  },
  {
   "cell_type": "code",
   "execution_count": 2,
   "id": "2594d910",
   "metadata": {
    "ExecuteTime": {
     "end_time": "2021-10-25T15:39:18.074653Z",
     "start_time": "2021-10-25T15:39:18.070329Z"
    }
   },
   "outputs": [],
   "source": [
    "import pickle\n",
    "import numpy as np\n",
    "import matplotlib.pyplot as plt\n",
    "from pyvis.network import Network\n",
    "import networkx as nx\n",
    "from zipfile import ZipFile\n",
    "from sklearn.metrics import roc_auc_score\n",
    "\n",
    "from torch_geometric.nn import GCN\n",
    "from torch_geometric.data import Data\n",
    "from torch_geometric.loader import DataLoader\n",
    "from torch_geometric.utils import dense_to_sparse, to_networkx, k_hop_subgraph\n",
    "from torch_geometric.nn import GNNExplainer\n",
    "from torch_geometric.data.download import download_url\n",
    "\n",
    "import torch"
   ]
  },
  {
   "cell_type": "markdown",
   "id": "71c6de55",
   "metadata": {},
   "source": [
    "## Dataset"
   ]
  },
  {
   "cell_type": "markdown",
   "id": "0c3a8c66",
   "metadata": {},
   "source": [
    "### Load Data"
   ]
  },
  {
   "cell_type": "markdown",
   "id": "9a18981c",
   "metadata": {},
   "source": [
    "The dataset is loaded similar to: https://github.com/flyingdoog/PGExplainer/blob/ec57ea2db3b196da7eb93179acffc64ec6958828/BA-shapes.ipynb"
   ]
  },
  {
   "cell_type": "code",
   "execution_count": 3,
   "id": "96865e14",
   "metadata": {
    "ExecuteTime": {
     "end_time": "2021-10-25T15:39:21.613771Z",
     "start_time": "2021-10-25T15:39:21.610794Z"
    }
   },
   "outputs": [],
   "source": [
    "url = \"https://github.com/flyingdoog/PGExplainer/raw/ec57ea2db3b196da7eb93179acffc64ec6958828/dataset/datasets.zip\""
   ]
  },
  {
   "cell_type": "code",
   "execution_count": 4,
   "id": "37149316",
   "metadata": {
    "ExecuteTime": {
     "end_time": "2021-10-25T15:39:22.323573Z",
     "start_time": "2021-10-25T15:39:21.960861Z"
    }
   },
   "outputs": [
    {
     "name": "stderr",
     "output_type": "stream",
     "text": [
      "Using existing file datasets.zip\n"
     ]
    }
   ],
   "source": [
    "folder = \"data/BA-Shapes/\"\n",
    "path = download_url(url, folder)\n",
    "\n",
    "with ZipFile(path, \"r\") as zf:\n",
    "    zf.extractall(folder)"
   ]
  },
  {
   "cell_type": "code",
   "execution_count": 5,
   "id": "648c77dc",
   "metadata": {
    "ExecuteTime": {
     "end_time": "2021-10-25T15:39:22.423442Z",
     "start_time": "2021-10-25T15:39:22.414078Z"
    }
   },
   "outputs": [],
   "source": [
    "with open(folder + \"syn1.pkl\", \"rb\") as fin:\n",
    "    (\n",
    "        adj,\n",
    "        features,\n",
    "        y_train,\n",
    "        y_val,\n",
    "        y_test,\n",
    "        train_mask,\n",
    "        val_mask,\n",
    "        test_mask,\n",
    "        edge_label_matrix,\n",
    "    ) = pickle.load(fin)"
   ]
  },
  {
   "cell_type": "markdown",
   "id": "5f2edfde",
   "metadata": {},
   "source": [
    "### Understand Data"
   ]
  },
  {
   "cell_type": "markdown",
   "id": "49727f93",
   "metadata": {},
   "source": [
    "I loaded the dataset but do not know what to find in adj, features, ... Therefore I check the variables and some properties to understand the data."
   ]
  },
  {
   "cell_type": "code",
   "execution_count": 6,
   "id": "af7eb472",
   "metadata": {
    "ExecuteTime": {
     "end_time": "2021-10-25T15:39:26.168054Z",
     "start_time": "2021-10-25T15:39:26.120915Z"
    }
   },
   "outputs": [
    {
     "name": "stdout",
     "output_type": "stream",
     "text": [
      "Features\n",
      "Value Counts:  (array([1.]), array([7000]))\n",
      "Shape:  (700, 10)\n",
      "There are 700 nodes and each of them has 10 features which are all 1s.\n",
      "\n",
      "Adj:\n",
      "Value Counts:  (array([0., 1.]), array([485890,   4110]))\n",
      "Shape:  (700, 700)\n",
      "\n",
      "Y Train\n",
      "Value Counts:  (array([0., 1.]), array([2240,  560]))\n",
      "Shape:  (700, 4)\n",
      "Therefore there are 4 different classes, corresponding tonodes at the top, middle, bottom of houses, and nodes that do not belong to a house.\n",
      "\n",
      "Node Distribution:\n",
      "Train Mask Value Counts:  (array([False,  True]), array([140, 560]))\n",
      "Val Mask Value Counts:  (array([False,  True]), array([630,  70]))\n",
      "Test Mask Value Counts:  (array([False,  True]), array([630,  70]))\n",
      "In total there are 700 examples splittet in 10% val/test & 80% train. \n",
      "\n",
      "Ys\n",
      "Ys are either stored in y_train, y_val or y_test\n",
      "train:  [1. 0. 0. 0.] val:  [0. 0. 0. 0.] test:  [0. 0. 0. 0.]\n",
      "We put those together in all_label:\n",
      "Value Counts:  (array([False,  True]), array([2100,  700]))\n",
      "Shape:  (700, 4)\n",
      "\n",
      "Edge Label Matrix\n",
      "Shape:  (700, 700)\n",
      "Value Counts:  (array([0., 1.]), array([489520,    480]))\n",
      "\n"
     ]
    }
   ],
   "source": [
    "print(\"Features\")\n",
    "print(\"Value Counts: \", np.unique(features, return_counts=True))\n",
    "print(\"Shape: \", np.shape(features))\n",
    "print(\"There are 700 nodes and each of them has 10 features which are all 1s.\")\n",
    "print()\n",
    "\n",
    "\n",
    "print(\"Adj:\")\n",
    "print(\"Value Counts: \", np.unique(adj, return_counts=True))\n",
    "print(\"Shape: \", np.shape(adj))\n",
    "print()\n",
    "\n",
    "print(\"Y Train\")\n",
    "print(\"Value Counts: \", np.unique(y_train, return_counts=True))\n",
    "print(\"Shape: \", np.shape(y_train))\n",
    "print(\"Therefore there are 4 different classes, corresponding to\"\n",
    "      \"nodes at the top, middle, bottom of houses, and nodes \"\n",
    "      \"that do not belong to a house.\")\n",
    "print()\n",
    "\n",
    "print(\"Node Distribution:\")\n",
    "print(\"Train Mask Value Counts: \", np.unique(train_mask, return_counts=True))\n",
    "print(\"Val Mask Value Counts: \", np.unique(val_mask, return_counts=True))\n",
    "print(\"Test Mask Value Counts: \", np.unique(test_mask, return_counts=True))\n",
    "print(\"In total there are 700 examples splittet in 10% val/test & 80% train. \")\n",
    "print()\n",
    "\n",
    "print(\"Ys\")\n",
    "print(\"Ys are either stored in y_train, y_val or y_test\")\n",
    "print(\"train: \", y_train[0], \"val: \", y_val[0], \"test: \", y_test[0])\n",
    "print(\"We put those together in all_label:\")\n",
    "all_label = np.logical_or(y_train, np.logical_or(y_val, y_test))\n",
    "print(\"Value Counts: \", np.unique(all_label, return_counts=True))\n",
    "print(\"Shape: \", all_label.shape)\n",
    "print()\n",
    "\n",
    "# Edge labels\n",
    "print(\"Edge Label Matrix\")\n",
    "print(\"Shape: \", edge_label_matrix.shape)\n",
    "print(\"Value Counts: \", np.unique(edge_label_matrix, return_counts=True))\n",
    "print()"
   ]
  },
  {
   "cell_type": "code",
   "execution_count": 7,
   "id": "67480332",
   "metadata": {
    "ExecuteTime": {
     "end_time": "2021-10-25T15:39:28.448617Z",
     "start_time": "2021-10-25T15:39:28.436946Z"
    }
   },
   "outputs": [],
   "source": [
    "edge_index = dense_to_sparse(torch.tensor(adj))[0]\n",
    "dataset = Data(\n",
    "    x=torch.tensor(features, dtype=torch.double),\n",
    "    edge_index=edge_index,\n",
    "    y=torch.argmax(torch.tensor(all_label).double(), axis=1),\n",
    "    edge_label=edge_label_matrix,\n",
    ")"
   ]
  },
  {
   "cell_type": "code",
   "execution_count": null,
   "id": "e3d2102d",
   "metadata": {
    "ExecuteTime": {
     "end_time": "2021-10-25T15:37:22.321369Z",
     "start_time": "2021-10-25T15:37:22.314619Z"
    }
   },
   "outputs": [],
   "source": [
    "dataset.x.shape, dataset.edge_index.max(), dataset.edge_label.shape"
   ]
  },
  {
   "cell_type": "markdown",
   "id": "9d4be828",
   "metadata": {},
   "source": [
    "### Visualize Data"
   ]
  },
  {
   "cell_type": "markdown",
   "id": "fa87fdda",
   "metadata": {
    "ExecuteTime": {
     "end_time": "2021-10-22T18:29:04.786035Z",
     "start_time": "2021-10-22T18:29:04.781524Z"
    }
   },
   "source": [
    "Vizualise 3 hop subgraph of node 600."
   ]
  },
  {
   "cell_type": "code",
   "execution_count": null,
   "id": "88a5f824",
   "metadata": {
    "ExecuteTime": {
     "end_time": "2021-10-25T15:37:22.330350Z",
     "start_time": "2021-10-25T15:37:22.323324Z"
    }
   },
   "outputs": [],
   "source": [
    "# Subgraph of node 600\n",
    "node_idx = 600\n",
    "hop_subgraph = k_hop_subgraph(node_idx, 3, dataset.edge_index)\n",
    "# Map edges to new index space\n",
    "sub_edge_index = [\n",
    "    [hop_subgraph[0].tolist().index(j) for j in i] for i in hop_subgraph[1].tolist()\n",
    "]\n",
    "sub_x = dataset.x[hop_subgraph[0]]\n",
    "sub_node_idx = hop_subgraph[2]\n",
    "\n",
    "# Create PyG Data\n",
    "subgraph = Data(\n",
    "    x=sub_x,\n",
    "    edge_index=torch.tensor(sub_edge_index),\n",
    "    y=torch.tensor(dataset.y[hop_subgraph[0]].cpu().numpy()),\n",
    "    edge_label=dataset.edge_label[hop_subgraph[0]][:, hop_subgraph[0]],\n",
    ")"
   ]
  },
  {
   "cell_type": "code",
   "execution_count": null,
   "id": "8f43cfd3",
   "metadata": {
    "ExecuteTime": {
     "end_time": "2021-10-25T15:37:22.352242Z",
     "start_time": "2021-10-25T15:37:22.334769Z"
    }
   },
   "outputs": [],
   "source": [
    "nx_graph = to_networkx(subgraph)\n",
    "for i in list(nx_graph.nodes):\n",
    "    nx_graph.nodes[i][\"group\"] = subgraph.y.tolist()[i]\n",
    "\n",
    "for edge in nx_graph.edges:\n",
    "    nx_graph.edges[edge][\"value\"] = 1 + 5 * subgraph.edge_label[edge[0], edge[1]]\n",
    "\n",
    "net = Network(notebook=True)\n",
    "net.from_nx(nx_graph)\n",
    "net.show(\"viz.html\")"
   ]
  },
  {
   "cell_type": "markdown",
   "id": "98b50fb6",
   "metadata": {
    "ExecuteTime": {
     "end_time": "2021-10-25T08:12:30.769117Z",
     "start_time": "2021-10-25T08:12:30.762950Z"
    }
   },
   "source": [
    "I assume that the two yellow nodes also belong to houses, but the missing nodes are not in the subgraph (k hops graph) anymore."
   ]
  },
  {
   "cell_type": "markdown",
   "id": "10b45de3",
   "metadata": {},
   "source": [
    "## GCN Model"
   ]
  },
  {
   "cell_type": "markdown",
   "id": "58efe585",
   "metadata": {},
   "source": [
    "As describes in the paper we use a 3 layer GCN with a hidden dimension of 20. "
   ]
  },
  {
   "cell_type": "code",
   "execution_count": 10,
   "id": "6f30c9f7",
   "metadata": {
    "ExecuteTime": {
     "end_time": "2021-10-25T15:39:48.759481Z",
     "start_time": "2021-10-25T15:39:46.183094Z"
    }
   },
   "outputs": [],
   "source": [
    "model = GCN(features.shape[1], 20, 3, y_train.shape[1])\n",
    "device = torch.device(\"cuda\" if torch.cuda.is_available() else \"cpu\")\n",
    "model = model.to(device).double()\n",
    "dataset = dataset.to(device)\n",
    "optimizer = torch.optim.Adam(model.parameters(), lr=0.001, weight_decay=5e-4)"
   ]
  },
  {
   "cell_type": "code",
   "execution_count": 11,
   "id": "c9222c79",
   "metadata": {
    "ExecuteTime": {
     "end_time": "2021-10-25T15:39:55.949063Z",
     "start_time": "2021-10-25T15:39:48.761707Z"
    }
   },
   "outputs": [
    {
     "name": "stdout",
     "output_type": "stream",
     "text": [
      "Train Accuracy: 0.21785713732242584, Test Accuracy: 0.22857142984867096, Val Accuracy: 0.3142857253551483\n",
      "Train Accuracy: 0.5321428775787354, Test Accuracy: 0.5142857432365417, Val Accuracy: 0.4714285731315613\n",
      "Train Accuracy: 0.8642857074737549, Test Accuracy: 0.8428571224212646, Val Accuracy: 0.8714285492897034\n",
      "Train Accuracy: 0.887499988079071, Test Accuracy: 0.8428571224212646, Val Accuracy: 0.9142857193946838\n",
      "Train Accuracy: 0.9107142686843872, Test Accuracy: 0.8857142925262451, Val Accuracy: 0.9285714626312256\n",
      "Train Accuracy: 0.9089285731315613, Test Accuracy: 0.8857142925262451, Val Accuracy: 0.9285714626312256\n",
      "Train Accuracy: 0.9125000238418579, Test Accuracy: 0.8857142925262451, Val Accuracy: 0.9571428894996643\n",
      "Train Accuracy: 0.9107142686843872, Test Accuracy: 0.8571428656578064, Val Accuracy: 0.9142857193946838\n",
      "Train Accuracy: 0.9107142686843872, Test Accuracy: 0.8714285492897034, Val Accuracy: 0.9428571462631226\n",
      "Train Accuracy: 0.9214285612106323, Test Accuracy: 0.8857142925262451, Val Accuracy: 0.9571428894996643\n"
     ]
    }
   ],
   "source": [
    "optimizer = torch.optim.Adam(model.parameters(), lr=0.01, weight_decay=5e-4)\n",
    "model.train()\n",
    "\n",
    "train_ids = np.where(np.sum(y_train, axis=1) == 1)[0]\n",
    "test_ids = np.where(np.sum(y_test, axis=1) == 1)[0]\n",
    "val_ids = np.where(np.sum(y_val, axis=1) == 1)[0]\n",
    "\n",
    "target = torch.argmax(torch.tensor(y_train[train_ids]), dim=1).to(device)\n",
    "target_test = y_train[test_ids]\n",
    "target_val = y_train[val_ids]\n",
    "\n",
    "for epoch in range(1000):\n",
    "    optimizer.zero_grad()\n",
    "    out = model(dataset.x.double(), dataset.edge_index)\n",
    "\n",
    "    out_train = out[train_ids]\n",
    "    out_val = out[val_ids]\n",
    "    out_test = out[test_ids]\n",
    "\n",
    "    train_loss = torch.nn.functional.cross_entropy(out_train, dataset.y[train_ids])\n",
    "\n",
    "    train_correct = (out_train.argmax(dim=1) == dataset.y[train_ids]).sum()\n",
    "    acc = train_correct / len(train_ids)\n",
    "    test_correct = (out_test.argmax(dim=1) == dataset.y[test_ids]).sum()\n",
    "    test_acc = test_correct / len(test_ids)\n",
    "    val_correct = (out_val.argmax(dim=1) == dataset.y[val_ids]).sum()\n",
    "    val_acc = val_correct / len(val_ids)\n",
    "\n",
    "    train_loss.backward()\n",
    "    optimizer.step()\n",
    "\n",
    "    if epoch % 100 == 0:\n",
    "        print(\n",
    "            f\"Train Accuracy: {acc}, Test Accuracy: {test_acc}, Val Accuracy: {val_acc}\"\n",
    "        )"
   ]
  },
  {
   "cell_type": "markdown",
   "id": "83811709",
   "metadata": {
    "ExecuteTime": {
     "end_time": "2021-10-22T16:25:34.787245Z",
     "start_time": "2021-10-22T16:25:34.784637Z"
    }
   },
   "source": [
    "Those results are similar to the one reported in the original GNNExplainer Paper. Ying et al. achieve an node classification accuracy of around 95%. "
   ]
  },
  {
   "cell_type": "markdown",
   "id": "d22d31aa",
   "metadata": {
    "ExecuteTime": {
     "end_time": "2021-10-22T16:19:39.810340Z",
     "start_time": "2021-10-22T16:19:39.804826Z"
    }
   },
   "source": [
    "## GNNExplainer"
   ]
  },
  {
   "cell_type": "markdown",
   "id": "6970ecd1",
   "metadata": {},
   "source": [
    "### Train GNNExplainer for One Instance"
   ]
  },
  {
   "cell_type": "markdown",
   "id": "10e972eb",
   "metadata": {},
   "source": [
    "For the subgraph created in Understand Data, we try to find the important edges with GNNExplainer."
   ]
  },
  {
   "cell_type": "code",
   "execution_count": null,
   "id": "5e867b66",
   "metadata": {
    "ExecuteTime": {
     "end_time": "2021-10-25T15:37:31.860745Z",
     "start_time": "2021-10-25T15:37:31.855718Z"
    }
   },
   "outputs": [],
   "source": [
    "explainer = GNNExplainer(model, epochs=200, return_type=\"log_prob\")\n",
    "subgraph = subgraph.to(device)"
   ]
  },
  {
   "cell_type": "code",
   "execution_count": null,
   "id": "4b1479d1",
   "metadata": {
    "ExecuteTime": {
     "end_time": "2021-10-25T15:38:01.771547Z",
     "start_time": "2021-10-25T15:37:59.355996Z"
    }
   },
   "outputs": [],
   "source": [
    "plt.figure(figsize=(20, 20))\n",
    "print(f\"We wanna explain node: {sub_node_idx.item()}.\")\n",
    "node_feat_mask, edge_mask = explainer.explain_node(\n",
    "    sub_node_idx, subgraph.x, subgraph.edge_index\n",
    ")\n",
    "ax, G = explainer.visualize_subgraph(\n",
    "    sub_node_idx, subgraph.edge_index, edge_mask, y=subgraph.y\n",
    ")\n",
    "\n",
    "plt.show()"
   ]
  },
  {
   "cell_type": "code",
   "execution_count": null,
   "id": "ab17a248",
   "metadata": {
    "ExecuteTime": {
     "end_time": "2021-10-25T15:38:06.086888Z",
     "start_time": "2021-10-25T15:38:06.080424Z"
    }
   },
   "outputs": [],
   "source": [
    "edge_mask"
   ]
  },
  {
   "cell_type": "markdown",
   "id": "a4a21664",
   "metadata": {},
   "source": [
    "### Accuracy for All Nodes"
   ]
  },
  {
   "cell_type": "markdown",
   "id": "76648a05",
   "metadata": {},
   "source": [
    "For every node we can extract the subgraph and evaluate the importance of each edge in the subgraph according to the edge label matrix. [Ying et al.](https://arxiv.org/pdf/1903.03894.pdf) report in their paper an explanation accuracy of 92.5%."
   ]
  },
  {
   "cell_type": "markdown",
   "id": "7cd20d47",
   "metadata": {
    "ExecuteTime": {
     "end_time": "2021-10-25T13:17:49.240188Z",
     "start_time": "2021-10-25T13:17:49.232091Z"
    }
   },
   "source": [
    "According to the function explain nodes gnn stats: https://github.com/RexYing/gnn-model-explainer/blob/bc984829f4f4829e93c760e9bbdc8e73f96e2cc1/explainer/explain.py#L328"
   ]
  },
  {
   "cell_type": "code",
   "execution_count": 35,
   "id": "706a0b16",
   "metadata": {
    "ExecuteTime": {
     "end_time": "2021-10-25T15:46:49.254709Z",
     "start_time": "2021-10-25T15:46:49.250404Z"
    }
   },
   "outputs": [],
   "source": [
    "def extract_subgraph(node_idx, x, edge_index, edge_label):\n",
    "    subgraph = k_hop_subgraph(node_idx, 3, edge_index)\n",
    "    sub_edge_index = [\n",
    "        [subgraph[0].tolist().index(j) for j in i] for i in subgraph[1].tolist()\n",
    "    ]\n",
    "    sub_x = x[subgraph[0]]\n",
    "    sub_edge_label = edge_label[subgraph[0].cpu()][:, subgraph[0].cpu()]\n",
    "    \n",
    "\n",
    "    return sub_x, sub_edge_index, subgraph[2], sub_edge_label"
   ]
  },
  {
   "cell_type": "code",
   "execution_count": 38,
   "id": "c1cccb27",
   "metadata": {
    "ExecuteTime": {
     "end_time": "2021-10-25T15:55:20.671673Z",
     "start_time": "2021-10-25T15:52:37.240459Z"
    }
   },
   "outputs": [
    {
     "name": "stdout",
     "output_type": "stream",
     "text": [
      "Node: 400, AUC: 1.0\n",
      "Node: 405, AUC: 0.9903549382716049\n",
      "Node: 410, AUC: 0.9949852507374631\n",
      "Node: 415, AUC: 0.9896093100581879\n",
      "Node: 420, AUC: 0.786878453038674\n",
      "Node: 425, AUC: 1.0\n",
      "Node: 430, AUC: 0.899895178197065\n",
      "Node: 435, AUC: 0.9910514541387024\n",
      "Node: 440, AUC: 1.0\n",
      "Node: 445, AUC: 1.0\n",
      "Node: 450, AUC: 0.9851994851994852\n",
      "Node: 455, AUC: 0.9972389558232931\n",
      "Node: 460, AUC: 0.9979674796747967\n",
      "Node: 465, AUC: 0.987600291757841\n",
      "Node: 470, AUC: 0.9785185185185185\n",
      "Node: 475, AUC: 0.999063670411985\n",
      "Node: 480, AUC: 0.9878318584070797\n",
      "Node: 485, AUC: 0.8728049359278595\n",
      "Node: 490, AUC: 0.8389026402640265\n",
      "Node: 495, AUC: 0.9866666666666666\n",
      "Node: 500, AUC: 0.9948795180722891\n",
      "Node: 505, AUC: 0.997168284789644\n",
      "Node: 510, AUC: 0.9923510466988729\n",
      "Node: 515, AUC: 0.9957343083485679\n",
      "Node: 520, AUC: 0.9937908496732026\n",
      "Node: 525, AUC: 1.0\n",
      "Node: 530, AUC: 0.8833333333333333\n",
      "Node: 535, AUC: 0.9862869198312236\n",
      "Node: 540, AUC: 1.0\n",
      "Node: 545, AUC: 0.9816993464052287\n",
      "Node: 550, AUC: 0.9914089347079038\n",
      "Node: 555, AUC: 0.9813153961136024\n",
      "Node: 560, AUC: 0.9908579465541492\n",
      "Node: 565, AUC: 0.9886091127098321\n",
      "Node: 570, AUC: 0.9906462585034014\n",
      "Node: 575, AUC: 0.985663082437276\n",
      "Node: 580, AUC: 0.9803882725832013\n",
      "Node: 585, AUC: 1.0\n",
      "Node: 590, AUC: 0.9861853832442068\n",
      "Node: 595, AUC: 1.0\n",
      "Node: 600, AUC: 0.9895287958115183\n",
      "Node: 605, AUC: 0.9544753086419753\n",
      "Node: 610, AUC: 0.9836065573770492\n",
      "Node: 615, AUC: 0.9796747967479675\n",
      "Node: 620, AUC: 0.9733044733044733\n",
      "Node: 625, AUC: 0.9813333333333333\n",
      "Node: 630, AUC: 0.7080357142857142\n",
      "Node: 635, AUC: 0.9893004115226338\n",
      "Node: 640, AUC: 0.9897388059701492\n",
      "Node: 645, AUC: 0.7841571609632446\n",
      "Node: 650, AUC: 0.9739084132055378\n",
      "Node: 655, AUC: 1.0\n",
      "Node: 660, AUC: 0.9820585457979225\n",
      "Node: 665, AUC: 0.7916666666666666\n",
      "Node: 670, AUC: 0.9990196078431373\n",
      "Node: 675, AUC: 0.9746376811594203\n",
      "Node: 680, AUC: 0.9981684981684982\n",
      "Node: 685, AUC: 0.9791666666666666\n",
      "Node: 690, AUC: 0.9786967418546366\n",
      "Node: 695, AUC: 0.986111111111111\n",
      "Mean:  0.9666912728588473\n"
     ]
    }
   ],
   "source": [
    "# iterate over all nodes (same as in original paper: https://github.com/RexYing/gnn-model-explainer/blob/bc984829f4f4829e93c760e9bbdc8e73f96e2cc1/explainer_main.py#L311)\n",
    "allnodes_idx = [i for i in range(400, 700, 5)]\n",
    "explainer = GNNExplainer(model, epochs=300, return_type=\"log_prob\", log=False)\n",
    "aucs = []\n",
    "for node_idx in allnodes_idx:\n",
    "    # extract subgraph\n",
    "    sub_x, sub_edge_index, new_node_idx, sub_edge_label = extract_subgraph(\n",
    "        node_idx, dataset.x, dataset.edge_index, dataset.edge_label\n",
    "    )\n",
    "\n",
    "    # explain node in subgraph\n",
    "    _, edge_mask = explainer.explain_node(\n",
    "        new_node_idx, sub_x, torch.tensor(sub_edge_index).to(device)\n",
    "    )\n",
    "\n",
    "\n",
    "    # calculate accuracy - strange calculation\n",
    "    targets = []\n",
    "    preds = []\n",
    "    edges = []\n",
    "    for i, (row, col) in enumerate(np.array(sub_edge_index).T):\n",
    "        if [col, row] not in edges:\n",
    "            target = sub_edge_label[col, row] + sub_edge_label[row, col]\n",
    "            targets.append(1 if target > 0 else 0)\n",
    "            pred = edge_mask[i].item() + edge_mask[i].item()\n",
    "            preds.append(pred)\n",
    "        else:\n",
    "            index = edges.index([col, row])\n",
    "            pred = edge_mask[i].item() + edge_mask[i].item()\n",
    "            edge_mask[index] += pred\n",
    "        edges.append([row, col])\n",
    "        \n",
    "\n",
    "    auc = roc_auc_score(targets,preds)\n",
    "    aucs.append(auc)\n",
    "    print(f\"Node: {node_idx}, AUC: {auc}\")\n",
    "print(\"Mean: \", np.mean(aucs))\n"
   ]
  },
  {
   "cell_type": "markdown",
   "id": "9b3fd625",
   "metadata": {
    "ExecuteTime": {
     "end_time": "2021-10-25T14:42:39.159823Z",
     "start_time": "2021-10-25T14:42:39.156148Z"
    }
   },
   "source": [
    "Open Questions: \n",
    "1. Why is it called accuracy if it is a roc_auc_score? \n",
    "2. Optimal is when the edge weight reaches 0.5 as it goes in two directions?\n",
    "3. Subgraph looks different in PGExplainer: https://github.com/flyingdoog/PGExplainer/blob/ec57ea2db3b196da7eb93179acffc64ec6958828/BA-shapes.ipynb. "
   ]
  }
 ],
 "metadata": {
  "kernelspec": {
   "display_name": "gcn-graph-importance",
   "language": "python",
   "name": "gcn-graph-importance"
  },
  "language_info": {
   "codemirror_mode": {
    "name": "ipython",
    "version": 3
   },
   "file_extension": ".py",
   "mimetype": "text/x-python",
   "name": "python",
   "nbconvert_exporter": "python",
   "pygments_lexer": "ipython3",
   "version": "3.8.10"
  },
  "toc": {
   "base_numbering": 1,
   "nav_menu": {},
   "number_sections": false,
   "sideBar": true,
   "skip_h1_title": false,
   "title_cell": "Table of Contents",
   "title_sidebar": "Contents",
   "toc_cell": false,
   "toc_position": {
    "height": "calc(100% - 180px)",
    "left": "10px",
    "top": "150px",
    "width": "288px"
   },
   "toc_section_display": true,
   "toc_window_display": true
  }
 },
 "nbformat": 4,
 "nbformat_minor": 5
}
